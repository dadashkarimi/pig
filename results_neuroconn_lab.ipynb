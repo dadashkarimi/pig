{
 "cells": [
  {
   "cell_type": "code",
   "execution_count": 4,
   "id": "4abd289d-8910-48cf-b07a-c4cb47596805",
   "metadata": {},
   "outputs": [
    {
     "name": "stdout",
     "output_type": "stream",
     "text": [
      "Available devices: [PhysicalDevice(name='/physical_device:CPU:0', device_type='CPU')]\n"
     ]
    }
   ],
   "source": [
    "# from tensorflow.keras.models import load_model\n",
    "import numpy as np\n",
    "import tensorflow as tf\n",
    "from neurite_sandbox.tf.models import labels_to_labels\n",
    "from neurite_sandbox.tf.utils.augment import add_outside_shapes\n",
    "from neurite.tf.utils.augment import draw_perlin_full\n",
    "\n",
    "import tensorflow.keras.layers as KL\n",
    "import voxelmorph as vxm\n",
    "\n",
    "\n",
    "import argparse\n",
    "from tensorflow.keras.callbacks import ReduceLROnPlateau\n",
    "import pathlib\n",
    "# import surfa as sf\n",
    "import re\n",
    "import json\n",
    "from keras import backend as K\n",
    "import param_3d\n",
    "import data\n",
    "import model_3d\n",
    "from data_3d import *\n",
    "import scipy.ndimage as ndimage\n",
    "\n",
    "import nibabel as nib\n",
    "from tqdm import tqdm\n",
    "from tensorflow.keras.layers import Lambda\n",
    "\n",
    "from utils import *\n",
    "from help import *\n",
    "\n",
    "import os\n",
    "os.environ[\"CUDA_VISIBLE_DEVICES\"] = \"\"\n",
    "\n",
    "# Check devices\n",
    "print(\"Available devices:\", tf.config.list_physical_devices())\n",
    "\n",
    "def get_pig_model():\n",
    "    epsilon =1e-7\n",
    "    min_max_norm = Lambda(lambda x: (x - K.min(x)) / (K.max(x) - K.min(x)+ epsilon) * (1.0) )\n",
    "    \n",
    "    print(\"model is loading\")\n",
    "    en = [16 ,16 ,64 ,64 ,64 ,64 ,64 ,64 ,64 ,64 ,64]\n",
    "    de = [64 ,64 ,64 ,64, 64 ,64 ,64, 64, 64, 16 ,16 ,2]\n",
    "    input_img = Input(shape=(param_3d.img_size_192,param_3d.img_size_192,param_3d.img_size_192, 1))\n",
    "    unet_model = vxm.networks.Unet(inshape=(param_3d.img_size_192,param_3d.img_size_192,param_3d.img_size_192, 1), nb_features=(en, de),\n",
    "                       nb_conv_per_level=2,\n",
    "                       final_activation_function='softmax')\n",
    "        \n",
    "    latest_weight = max(glob.glob(os.path.join(\"models_gmm\", 'weights_epoch_*.h5')), key=os.path.getctime, default=None)\n",
    "    print(latest_weight)\n",
    "    generated_img_norm = min_max_norm(input_img)\n",
    "    segmentation = unet_model(generated_img_norm)\n",
    "    combined_model = Model(inputs=input_img, outputs=segmentation)\n",
    "    combined_model.load_weights(latest_weight)\n",
    "    return combined_model"
   ]
  },
  {
   "cell_type": "code",
   "execution_count": 5,
   "id": "3b2577f0-3ca9-46aa-954e-c1c9930f93cd",
   "metadata": {},
   "outputs": [
    {
     "name": "stdout",
     "output_type": "stream",
     "text": [
      "model is loading\n",
      "models_gmm/weights_epoch_160.h5\n"
     ]
    }
   ],
   "source": [
    "validation_folder_path = \"/cbica/home/dadashkj/neuroconnlab_pig_data/dwi_PigAnatomical\"\n",
    "subfolders = [f.name for f in os.scandir(validation_folder_path) if f.is_dir()]\n",
    "combined_model = get_pig_model()"
   ]
  },
  {
   "cell_type": "code",
   "execution_count": 6,
   "id": "bb85281d-9851-4c4e-b628-a071f8a20914",
   "metadata": {},
   "outputs": [
    {
     "name": "stdout",
     "output_type": "stream",
     "text": [
      "/cbica/home/dadashkj/neuroconnlab_pig_data/dwi_PigAnatomical/john1/anat/anat.nii.gz\n"
     ]
    },
    {
     "ename": "FileNotFoundError",
     "evalue": "/cbica/home/dadashkj/neuroconnlab_pig_data/dwi_PigAnatomical/john1/anat/anat.nii.gz is not a file",
     "output_type": "error",
     "traceback": [
      "\u001b[0;31m---------------------------------------------------------------------------\u001b[0m",
      "\u001b[0;31mFileNotFoundError\u001b[0m                         Traceback (most recent call last)",
      "Cell \u001b[0;32mIn[6], line 7\u001b[0m\n\u001b[1;32m      4\u001b[0m \u001b[38;5;28mprint\u001b[39m(filename)\n\u001b[1;32m      5\u001b[0m mask_filename \u001b[38;5;241m=\u001b[39m os\u001b[38;5;241m.\u001b[39mpath\u001b[38;5;241m.\u001b[39mjoin(folder_path, \u001b[38;5;124m\"\u001b[39m\u001b[38;5;124manat/anat_brain_mask.nii.gz\u001b[39m\u001b[38;5;124m\"\u001b[39m)\n\u001b[0;32m----> 7\u001b[0m image \u001b[38;5;241m=\u001b[39m \u001b[43msf\u001b[49m\u001b[38;5;241;43m.\u001b[39;49m\u001b[43mload_volume\u001b[49m\u001b[43m(\u001b[49m\u001b[43mfilename\u001b[49m\u001b[43m)\u001b[49m\n\u001b[1;32m      8\u001b[0m new_voxsize \u001b[38;5;241m=\u001b[39m [\u001b[38;5;241m1\u001b[39m,\u001b[38;5;241m1\u001b[39m,\u001b[38;5;241m1\u001b[39m]\n\u001b[1;32m      9\u001b[0m orig_voxsize \u001b[38;5;241m=\u001b[39m image\u001b[38;5;241m.\u001b[39mgeom\u001b[38;5;241m.\u001b[39mvoxsize\n",
      "File \u001b[0;32m~/.conda/envs/tf-gpu-jk/lib/python3.8/site-packages/surfa/io/framed.py:41\u001b[0m, in \u001b[0;36mload_volume\u001b[0;34m(filename, fmt)\u001b[0m\n\u001b[1;32m     25\u001b[0m \u001b[38;5;28;01mdef\u001b[39;00m \u001b[38;5;21mload_volume\u001b[39m(filename, fmt\u001b[38;5;241m=\u001b[39m\u001b[38;5;28;01mNone\u001b[39;00m):\n\u001b[1;32m     26\u001b[0m \u001b[38;5;250m    \u001b[39m\u001b[38;5;124;03m\"\"\"\u001b[39;00m\n\u001b[1;32m     27\u001b[0m \u001b[38;5;124;03m    Load an image `Volume` from a 3D array file.\u001b[39;00m\n\u001b[1;32m     28\u001b[0m \n\u001b[0;32m   (...)\u001b[0m\n\u001b[1;32m     39\u001b[0m \u001b[38;5;124;03m        Loaded volume.\u001b[39;00m\n\u001b[1;32m     40\u001b[0m \u001b[38;5;124;03m    \"\"\"\u001b[39;00m\n\u001b[0;32m---> 41\u001b[0m     \u001b[38;5;28;01mreturn\u001b[39;00m \u001b[43mload_framed_array\u001b[49m\u001b[43m(\u001b[49m\u001b[43mfilename\u001b[49m\u001b[38;5;241;43m=\u001b[39;49m\u001b[43mfilename\u001b[49m\u001b[43m,\u001b[49m\u001b[43m \u001b[49m\u001b[43matype\u001b[49m\u001b[38;5;241;43m=\u001b[39;49m\u001b[43mVolume\u001b[49m\u001b[43m,\u001b[49m\u001b[43m \u001b[49m\u001b[43mfmt\u001b[49m\u001b[38;5;241;43m=\u001b[39;49m\u001b[43mfmt\u001b[49m\u001b[43m)\u001b[49m\n",
      "File \u001b[0;32m~/.conda/envs/tf-gpu-jk/lib/python3.8/site-packages/surfa/io/framed.py:119\u001b[0m, in \u001b[0;36mload_framed_array\u001b[0;34m(filename, atype, fmt)\u001b[0m\n\u001b[1;32m    101\u001b[0m \u001b[38;5;28;01mdef\u001b[39;00m \u001b[38;5;21mload_framed_array\u001b[39m(filename, atype, fmt\u001b[38;5;241m=\u001b[39m\u001b[38;5;28;01mNone\u001b[39;00m):\n\u001b[1;32m    102\u001b[0m \u001b[38;5;250m    \u001b[39m\u001b[38;5;124;03m\"\"\"\u001b[39;00m\n\u001b[1;32m    103\u001b[0m \u001b[38;5;124;03m    Generic loader for `FramedArray` objects.\u001b[39;00m\n\u001b[1;32m    104\u001b[0m \n\u001b[0;32m   (...)\u001b[0m\n\u001b[1;32m    117\u001b[0m \u001b[38;5;124;03m        Loaded framed array.\u001b[39;00m\n\u001b[1;32m    118\u001b[0m \u001b[38;5;124;03m    \"\"\"\u001b[39;00m\n\u001b[0;32m--> 119\u001b[0m     \u001b[43mcheck_file_readability\u001b[49m\u001b[43m(\u001b[49m\u001b[43mfilename\u001b[49m\u001b[43m)\u001b[49m\n\u001b[1;32m    121\u001b[0m     \u001b[38;5;28;01mif\u001b[39;00m fmt \u001b[38;5;129;01mis\u001b[39;00m \u001b[38;5;28;01mNone\u001b[39;00m:\n\u001b[1;32m    122\u001b[0m         iop \u001b[38;5;241m=\u001b[39m protocol\u001b[38;5;241m.\u001b[39mfind_protocol_by_extension(array_io_protocols, filename)\n",
      "File \u001b[0;32m~/.conda/envs/tf-gpu-jk/lib/python3.8/site-packages/surfa/io/utils.py:24\u001b[0m, in \u001b[0;36mcheck_file_readability\u001b[0;34m(filename)\u001b[0m\n\u001b[1;32m     21\u001b[0m     \u001b[38;5;28;01mraise\u001b[39;00m \u001b[38;5;167;01mValueError\u001b[39;00m(\u001b[38;5;124mf\u001b[39m\u001b[38;5;124m'\u001b[39m\u001b[38;5;132;01m{\u001b[39;00mfilename\u001b[38;5;132;01m}\u001b[39;00m\u001b[38;5;124m is a directory, not a file\u001b[39m\u001b[38;5;124m'\u001b[39m)\n\u001b[1;32m     23\u001b[0m \u001b[38;5;28;01mif\u001b[39;00m \u001b[38;5;129;01mnot\u001b[39;00m filename\u001b[38;5;241m.\u001b[39mis_file():\n\u001b[0;32m---> 24\u001b[0m     \u001b[38;5;28;01mraise\u001b[39;00m \u001b[38;5;167;01mFileNotFoundError\u001b[39;00m(\u001b[38;5;124mf\u001b[39m\u001b[38;5;124m'\u001b[39m\u001b[38;5;132;01m{\u001b[39;00mfilename\u001b[38;5;132;01m}\u001b[39;00m\u001b[38;5;124m is not a file\u001b[39m\u001b[38;5;124m'\u001b[39m)\n\u001b[1;32m     26\u001b[0m \u001b[38;5;28;01mif\u001b[39;00m \u001b[38;5;129;01mnot\u001b[39;00m os\u001b[38;5;241m.\u001b[39maccess(filename, os\u001b[38;5;241m.\u001b[39mR_OK):\n\u001b[1;32m     27\u001b[0m     \u001b[38;5;28;01mraise\u001b[39;00m \u001b[38;5;167;01mPermissionError\u001b[39;00m(\u001b[38;5;124mf\u001b[39m\u001b[38;5;124m'\u001b[39m\u001b[38;5;132;01m{\u001b[39;00mfilename\u001b[38;5;132;01m}\u001b[39;00m\u001b[38;5;124m is not a readable file\u001b[39m\u001b[38;5;124m'\u001b[39m)\n",
      "\u001b[0;31mFileNotFoundError\u001b[0m: /cbica/home/dadashkj/neuroconnlab_pig_data/dwi_PigAnatomical/john1/anat/anat.nii.gz is not a file"
     ]
    }
   ],
   "source": [
    "for folder in subfolders:\n",
    "    folder_path = os.path.join(validation_folder_path, folder)\n",
    "    filename = os.path.join(folder_path, \"anat/anat.nii.gz\")\n",
    "    print(filename)\n",
    "    mask_filename = os.path.join(folder_path, \"anat/anat_brain_mask.nii.gz\")\n",
    "\n",
    "    image = sf.load_volume(filename)\n",
    "    new_voxsize = [1,1,1]\n",
    "    orig_voxsize = image.geom.voxsize\n",
    "    crop_img = image.resize(new_voxsize, method=\"linear\").reshape([192,192,192,1])\n",
    "        \n",
    "    mask = sf.load_volume(mask_filename).resize(new_voxsize, method=\"linear\")\n",
    "    mask = mask.resize(new_voxsize).reshape([192, 192, 192, 1])\n",
    "    mask.data[mask.data != 0] = 1\n",
    "\n",
    "    ms = np.mean(np.column_stack(np.nonzero(mask)), axis=0).astype(int)\n",
    "    \n",
    "    ne.plot.volume3D(crop_img, slice_nos=ms)\n",
    "    ne.plot.volume3D(mask, slice_nos=ms)\n",
    "\n",
    "    \n",
    "    prediction_one_hot = combined_model.predict(crop_img[None,...], verbose=0)\n",
    "    prediction = np.argmax(prediction_one_hot,axis=-1)[0]\n",
    "\n",
    "    labeled, num_components = ndimage.label(prediction > 0)  # Label the connected components\n",
    "    largest_mask = labeled == np.argmax(ndimage.sum(prediction > 0, labeled, range(num_components + 1)))  # Mask for the largest component\n",
    "    ne.plot.volume3D(largest_mask, slice_nos=ms)\n"
   ]
  },
  {
   "cell_type": "code",
   "execution_count": null,
   "id": "fa402051-1829-46a4-9bea-4a41486c32ea",
   "metadata": {},
   "outputs": [],
   "source": []
  }
 ],
 "metadata": {
  "kernelspec": {
   "display_name": "Python 3 (ipykernel)",
   "language": "python",
   "name": "python3"
  },
  "language_info": {
   "codemirror_mode": {
    "name": "ipython",
    "version": 3
   },
   "file_extension": ".py",
   "mimetype": "text/x-python",
   "name": "python",
   "nbconvert_exporter": "python",
   "pygments_lexer": "ipython3",
   "version": "3.8.20"
  }
 },
 "nbformat": 4,
 "nbformat_minor": 5
}
